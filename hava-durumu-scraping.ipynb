{
 "cells": [
  {
   "cell_type": "code",
   "execution_count": 10,
   "id": "5f9ff586-cfe5-47e4-8377-9ff8dfc483a5",
   "metadata": {},
   "outputs": [],
   "source": [
    "from bs4 import BeautifulSoup\n",
    "import requests\n",
    "import pandas as pd\n",
    "import csv\n",
    "\n",
    "# Web sitesine başlık bilgisi ekleyerek requests modülü aracılığıyla bağlanıyoruz.\n",
    "headers_param = {\"User-Agent\":\"Mozilla/5.0 (Windows NT 10.0; Win64; x64) AppleWebKit/537.36 (KHTML, like Gecko) Chrome/83.0.4103.116 Safari/537.36\"}\n",
    "url = \"https://www.accuweather.com/tr/tr/ankara/316938/daily-weather-forecast/316938\"\n",
    "r = requests.get(url, headers=headers_param)\n",
    "\n",
    "# İsteğe bağlı içerik alınıyor ve BeautifulSoup kullanılarak ağaç yapısı oluşturuluyor.\n",
    "soup = BeautifulSoup(r.content, \"lxml\")\n",
    "\n",
    "# Hedeflenen verinin içeriğini bulmak için gerekli HTML etiketlerini buluyoruz.\n",
    "date_container = soup.find(\"div\", attrs={\"class\": \"two-column-page-content\"})\n",
    "daily = date_container.find_all(\"div\", attrs={\"class\": \"daily-wrapper\"})\n",
    "\n",
    "# Veriyi saklamak için boş listeler oluşturuluyor.\n",
    "days_of_week = []\n",
    "dates = []\n",
    "max_temperatures = []\n",
    "min_temperatures = []\n",
    "weather_conditions = []\n",
    "\n",
    "# Her bir günlük öğe için döngü oluşturuluyor ve veri çekiliyor.\n",
    "for day in daily:\n",
    "    date_elem = day.find(\"h2\", attrs={\"class\": \"date\"})\n",
    "    \n",
    "    # Gün ve tarih bilgisi çekiliyor ve uygun listelere ekleniyor.\n",
    "    days_of_week.append(date_elem.find(\"span\", attrs={\"class\": \"module-header dow date\"}).text)\n",
    "    dates.append(date_elem.find(\"span\", attrs={\"class\": \"module-header sub date\"}).text)\n",
    "    \n",
    "    # Maksimum ve minimum sıcaklık bilgisi çekiliyor ve uygun listelere ekleniyor.\n",
    "    max_temp = day.find(\"div\", attrs={\"class\": \"temp\"}).select(\"span:nth-of-type(1)\")\n",
    "    max_temperatures.append(max_temp[0].string)\n",
    "    min_temp = day.find(\"div\", attrs={\"class\": \"temp\"}).select(\"span:nth-of-type(2)\")\n",
    "    min_temperatures.append(min_temp[0].string.replace(\"/\", \"\"))\n",
    "    \n",
    "    # Hava durumu koşulu bilgisi çekiliyor ve uygun listeye ekleniyor.\n",
    "    condition = day.find(\"div\", attrs={\"class\": \"phrase\"}).string.replace(\"\\t\", \"\")\n",
    "    weather_conditions.append(condition.replace(\"\\n\", \"\"))\n",
    "\n",
    "# Toplanan veriler bir sözlükte saklanıyor.\n",
    "weather_data = {'Date': dates, 'Day': days_of_week, 'Max Temperature': max_temperatures, 'Min Temperature': min_temperatures, 'Condition': weather_conditions}\n",
    "\n",
    "# Verileri bir DataFrame'e dönüştürüyoruz.\n",
    "df = pd.DataFrame(weather_data)\n",
    "\n",
    "# CSV dosyasına veri yazmak için dosyayı açıyoruz ve csv.DictWriter kullanarak başlık ve satırları yazıyoruz.\n",
    "with open('C:\\\\Users\\\\fatih\\\\Documents\\\\havaDurumu.csv', 'w', newline='') as f:\n",
    "    writer = csv.DictWriter(f, fieldnames=weather_data.keys())\n",
    "    writer.writeheader()\n",
    "    for row in df.to_dict(orient='records'):\n",
    "        writer.writerow(row)\n"
   ]
  }
 ],
 "metadata": {
  "kernelspec": {
   "display_name": "Python 3 (ipykernel)",
   "language": "python",
   "name": "python3"
  },
  "language_info": {
   "codemirror_mode": {
    "name": "ipython",
    "version": 3
   },
   "file_extension": ".py",
   "mimetype": "text/x-python",
   "name": "python",
   "nbconvert_exporter": "python",
   "pygments_lexer": "ipython3",
   "version": "3.11.5"
  }
 },
 "nbformat": 4,
 "nbformat_minor": 5
}
